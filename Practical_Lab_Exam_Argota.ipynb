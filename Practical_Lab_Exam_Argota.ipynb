{
  "nbformat": 4,
  "nbformat_minor": 0,
  "metadata": {
    "colab": {
      "name": "Practical Lab Exam - Argota.ipynb",
      "provenance": [],
      "authorship_tag": "ABX9TyOk9zrIh8Is8VP1ArFwSeZx",
      "include_colab_link": true
    },
    "kernelspec": {
      "name": "python3",
      "display_name": "Python 3"
    },
    "language_info": {
      "name": "python"
    }
  },
  "cells": [
    {
      "cell_type": "markdown",
      "metadata": {
        "id": "view-in-github",
        "colab_type": "text"
      },
      "source": [
        "<a href=\"https://colab.research.google.com/github/KenseiXD/DSA-58010/blob/main/Practical_Lab_Exam_Argota.ipynb\" target=\"_parent\"><img src=\"https://colab.research.google.com/assets/colab-badge.svg\" alt=\"Open In Colab\"/></a>"
      ]
    },
    {
      "cell_type": "code",
      "source": [
        "scores = [26,49,98,87,62,75]\n",
        "\n",
        "even = [num for num in scores if num % 2 == 0]\n",
        "res = sum(even)\n",
        "\n",
        "print(\"The Even Numbers are:\", even)\n",
        "print(\"The Sum is:\", res)"
      ],
      "metadata": {
        "colab": {
          "base_uri": "https://localhost:8080/"
        },
        "id": "VmWTsYniAvdW",
        "outputId": "772f1dd6-c160-41ea-de1b-a3b8eb7dcce2"
      },
      "execution_count": 9,
      "outputs": [
        {
          "output_type": "stream",
          "name": "stdout",
          "text": [
            "The Even Numbers are: [26, 98, 62]\n",
            "The Sum is: 186\n"
          ]
        }
      ]
    }
  ]
}