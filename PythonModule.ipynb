{
  "nbformat": 4,
  "nbformat_minor": 0,
  "metadata": {
    "colab": {
      "provenance": [],
      "authorship_tag": "ABX9TyPvRbr+YYfeFIILra1NOq5k",
      "include_colab_link": true
    },
    "kernelspec": {
      "name": "python3",
      "display_name": "Python 3"
    },
    "language_info": {
      "name": "python"
    }
  },
  "cells": [
    {
      "cell_type": "markdown",
      "metadata": {
        "id": "view-in-github",
        "colab_type": "text"
      },
      "source": [
        "<a href=\"https://colab.research.google.com/github/KenseiXD/DSA-58010/blob/main/PythonModule.ipynb\" target=\"_parent\"><img src=\"https://colab.research.google.com/assets/colab-badge.svg\" alt=\"Open In Colab\"/></a>"
      ]
    },
    {
      "cell_type": "markdown",
      "source": [
        "Example 1"
      ],
      "metadata": {
        "id": "WLMoCFxa95in"
      }
    },
    {
      "cell_type": "code",
      "source": [
        "import array\n",
        "array.typecodes #get all typecodes\n",
        "a = array.array('i',[1,2,3,4,5,6]) #initialized array a\n",
        "b = array.array('f', [1.5,2.5,3.5,4.5,5.5,6.5]) #ibitializing array b\n",
        "print(a.typecode)\n",
        "print(b.typecode)"
      ],
      "metadata": {
        "colab": {
          "base_uri": "https://localhost:8080/"
        },
        "id": "vUs0UM0t98K3",
        "outputId": "4f3807f1-3584-4c01-c8f9-85fae3834211"
      },
      "execution_count": 1,
      "outputs": [
        {
          "output_type": "stream",
          "name": "stdout",
          "text": [
            "i\n",
            "f\n"
          ]
        }
      ]
    },
    {
      "cell_type": "markdown",
      "source": [
        "Example 2 .Create/convert the elements of array A to float/decimal number"
      ],
      "metadata": {
        "id": "VMYRyW8W-4Lk"
      }
    },
    {
      "cell_type": "code",
      "source": [
        "A = array.array('f', [1,2,3,4,5,6]) #initializing elements of array A\n",
        "print(A)"
      ],
      "metadata": {
        "colab": {
          "base_uri": "https://localhost:8080/"
        },
        "id": "FDKJU3Ow-684",
        "outputId": "b80f6330-7c61-4e5c-c1fd-a682604424de"
      },
      "execution_count": 2,
      "outputs": [
        {
          "output_type": "stream",
          "name": "stdout",
          "text": [
            "array('f', [1.0, 2.0, 3.0, 4.0, 5.0, 6.0])\n"
          ]
        }
      ]
    },
    {
      "cell_type": "markdown",
      "source": [
        "Example 3"
      ],
      "metadata": {
        "id": "zDVRn8EbAJUN"
      }
    },
    {
      "cell_type": "code",
      "source": [
        "import array\n",
        "a = array.array('i', [4,5,6,7]) #initializing array a\n",
        "b = array.array('i', [1,2,3])   #initializing array b\n",
        "a.insert(1,2)                   #insert element: 2 to index 1\n",
        "print(a)\n",
        "a.insert(-1,0)                  #insert element: 0 to index -1 \n",
        "print(a)\n",
        "a.insert(6,8)                   #insert element: 8 to index 6 which is out of range\n",
        "print(a)                        #append the last elemetn of the array\n",
        "b[0] = 5\n",
        "print(b) \n",
        "b[-1] = 9\n",
        "print(b)"
      ],
      "metadata": {
        "colab": {
          "base_uri": "https://localhost:8080/"
        },
        "id": "xtm0Vu_QALDO",
        "outputId": "7164bd34-0e89-4223-dbee-109631eb5d40"
      },
      "execution_count": 8,
      "outputs": [
        {
          "output_type": "stream",
          "name": "stdout",
          "text": [
            "array('i', [4, 2, 5, 6, 7])\n",
            "array('i', [4, 2, 5, 6, 0, 7])\n",
            "array('i', [4, 2, 5, 6, 0, 7, 8])\n",
            "array('i', [5, 2, 3])\n",
            "array('i', [5, 2, 9])\n"
          ]
        }
      ]
    },
    {
      "cell_type": "markdown",
      "source": [
        "Linked List"
      ],
      "metadata": {
        "id": "pBD5qM_oGn3V"
      }
    },
    {
      "cell_type": "code",
      "source": [
        "#function that creates node object\n",
        "\n",
        "class Node:\n",
        "  def __init__(self,data):\n",
        "    self.data = data      #assign data\n",
        "    self.next = None      #initialize as null\n",
        "\n",
        "#function that creates Linked list object\n",
        "\n",
        "class LinkedList:\n",
        "  def __init(self,):\n",
        "    self.head = None      #initialize head as null\n",
        "    \n",
        "  def printList(self):\n",
        "    temp = self.head\n",
        "    while(temp):\n",
        "      print(temp.data)\n",
        "      temp = temp.next\n",
        "\n",
        "\n",
        "\n",
        "\n",
        "\n",
        "list = LinkedList()       #empty list\n",
        "list.head = Node(1)\n",
        "second = Node(2)\n",
        "third = Node(3)\n",
        "fourth = Node(4)\n",
        "\n",
        "list.head.next = second\n",
        "second.next = third \n",
        "third.next = fourth\n",
        "\n",
        "list.printList()\n",
        "\n",
        "\n"
      ],
      "metadata": {
        "colab": {
          "base_uri": "https://localhost:8080/"
        },
        "id": "RgLrxw2gGphB",
        "outputId": "8836da6f-edb7-4da8-d4b8-74ec76778c0f"
      },
      "execution_count": 11,
      "outputs": [
        {
          "output_type": "stream",
          "name": "stdout",
          "text": [
            "1\n",
            "2\n",
            "3\n",
            "4\n"
          ]
        }
      ]
    }
  ]
}