{
  "nbformat": 4,
  "nbformat_minor": 0,
  "metadata": {
    "colab": {
      "provenance": [],
      "authorship_tag": "ABX9TyNgN3TzFDzIOcFNIzWQ7mrX",
      "include_colab_link": true
    },
    "kernelspec": {
      "name": "python3",
      "display_name": "Python 3"
    },
    "language_info": {
      "name": "python"
    }
  },
  "cells": [
    {
      "cell_type": "markdown",
      "metadata": {
        "id": "view-in-github",
        "colab_type": "text"
      },
      "source": [
        "<a href=\"https://colab.research.google.com/github/KenseiXD/DSA-58010/blob/main/Stacks_Argota.ipynb\" target=\"_parent\"><img src=\"https://colab.research.google.com/assets/colab-badge.svg\" alt=\"Open In Colab\"/></a>"
      ]
    },
    {
      "cell_type": "code",
      "execution_count": 5,
      "metadata": {
        "colab": {
          "base_uri": "https://localhost:8080/"
        },
        "id": "PaSLy-faYQ0P",
        "outputId": "fd871ad9-dedb-41c4-8212-4a72146c4b1b"
      },
      "outputs": [
        {
          "output_type": "stream",
          "name": "stdout",
          "text": [
            "Mon\n",
            "Tue\n",
            "Wed\n"
          ]
        }
      ],
      "source": [
        "# node structure\n",
        "class Node:\n",
        "  def __init__(self, data):\n",
        "    self.data = data\n",
        "    self.next = None\n",
        "\n",
        "#class LinkedList\n",
        "class LinkedList:\n",
        "  def __init__(self):\n",
        "    self.head = None\n",
        "\n",
        "  #Add new element at the end of the list\n",
        "  def push_back(self, Element1):\n",
        "    newNode = Node(Element1)\n",
        "    if(self.head == None):\n",
        "      self.head = newNode\n",
        "      return\n",
        "    else:\n",
        "      temp = self.head\n",
        "      while(temp.next != None):\n",
        "        temp = temp.next\n",
        "      temp.next = newNode\n",
        "\n",
        "  #Delete last node of the list\n",
        "  def pop_back(self):\n",
        "    if(self.head != None):\n",
        "      if(self.head.next == None):\n",
        "        self.head = None\n",
        "      else:\n",
        "        temp = self.head\n",
        "        while(temp.next.next != None):\n",
        "          temp = temp.next\n",
        "        lastNode = temp.next\n",
        "        temp.next = None\n",
        "        lastNode = None\n",
        "\n",
        "  #display the content of the list\n",
        "  def printList(self):  #for print/display\n",
        "    temp = self.head\n",
        "    while(temp):\n",
        "      print(temp.data)\n",
        "      temp = temp.next\n",
        "\n",
        "# test the code                  \n",
        "List1 = LinkedList()\n",
        "\n",
        "#Add four elements in the list.\n",
        "List1.push_back(\"Mon\")\n",
        "List1.push_back(\"Tue\")\n",
        "List1.push_back(\"Wed\")\n",
        "List1.push_back(\"Thu\")\n",
        "\n",
        "#Delete the last node\n",
        "List1.pop_back()\n",
        "List1.printList()"
      ]
    }
  ]
}