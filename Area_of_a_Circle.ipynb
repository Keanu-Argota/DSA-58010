{
  "nbformat": 4,
  "nbformat_minor": 0,
  "metadata": {
    "colab": {
      "name": "Area of a Circle.ipynb",
      "provenance": [],
      "authorship_tag": "ABX9TyNK5IP0uhWXAefDgXGXMZIE",
      "include_colab_link": true
    },
    "kernelspec": {
      "name": "python3",
      "display_name": "Python 3"
    },
    "language_info": {
      "name": "python"
    }
  },
  "cells": [
    {
      "cell_type": "markdown",
      "metadata": {
        "id": "view-in-github",
        "colab_type": "text"
      },
      "source": [
        "<a href=\"https://colab.research.google.com/github/KenseiXD/DSA-58010/blob/main/Area_of_a_Circle.ipynb\" target=\"_parent\"><img src=\"https://colab.research.google.com/assets/colab-badge.svg\" alt=\"Open In Colab\"/></a>"
      ]
    },
    {
      "cell_type": "code",
      "source": [
        "#for radius\n",
        "r = int(input(\"Please enter the radius of a circle:\"))\n",
        "A = 3.1416*r*r\n",
        "print(\"The area of a circle is:\", A)"
      ],
      "metadata": {
        "colab": {
          "base_uri": "https://localhost:8080/"
        },
        "id": "NBcJxSvgTvDT",
        "outputId": "aad94928-617e-4318-b32e-85cf45fc79d6"
      },
      "execution_count": 9,
      "outputs": [
        {
          "output_type": "stream",
          "name": "stdout",
          "text": [
            "Please enter the radius of a circle:5\n",
            "The area of a circle is: 78.54\n"
          ]
        }
      ]
    },
    {
      "cell_type": "code",
      "source": [
        "#for diameter\n",
        "pi = 3.1416\n",
        "d = int(input(\"Please enter the diameter of a circle:\"))\n",
        "A = (pi*d*d)/4\n",
        "print(\"The area of a circle is:\", A)"
      ],
      "metadata": {
        "colab": {
          "base_uri": "https://localhost:8080/"
        },
        "id": "xCAg375Sbhb7",
        "outputId": "008df115-7969-4dff-9c7e-7a8e38312732"
      },
      "execution_count": 11,
      "outputs": [
        {
          "output_type": "stream",
          "name": "stdout",
          "text": [
            "Please enter the diameter of a circle:10\n",
            "The area of a circle is: 78.54\n"
          ]
        }
      ]
    }
  ]
}