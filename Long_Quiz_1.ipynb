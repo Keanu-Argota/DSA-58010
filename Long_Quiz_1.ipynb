{
  "nbformat": 4,
  "nbformat_minor": 0,
  "metadata": {
    "colab": {
      "provenance": [],
      "authorship_tag": "ABX9TyNVdqa8MIuyab0aK0g5jBPX",
      "include_colab_link": true
    },
    "kernelspec": {
      "name": "python3",
      "display_name": "Python 3"
    },
    "language_info": {
      "name": "python"
    }
  },
  "cells": [
    {
      "cell_type": "markdown",
      "metadata": {
        "id": "view-in-github",
        "colab_type": "text"
      },
      "source": [
        "<a href=\"https://colab.research.google.com/github/KenseiXD/DSA-58010/blob/main/Long_Quiz_1.ipynb\" target=\"_parent\"><img src=\"https://colab.research.google.com/assets/colab-badge.svg\" alt=\"Open In Colab\"/></a>"
      ]
    },
    {
      "cell_type": "code",
      "source": [
        "fullname = input(str(\"Enter your fullname: \"))\n",
        "\n",
        "fullnamelist = list(fullname)\n",
        "\n",
        "fullnamelist.reverse()\n",
        "\n",
        "for x in fullnamelist:\n",
        "  print(x, \"\", end= '')"
      ],
      "metadata": {
        "colab": {
          "base_uri": "https://localhost:8080/"
        },
        "id": "2zuDyDXTOuTa",
        "outputId": "78066f02-8de7-435e-ea53-cf72a13433a5"
      },
      "execution_count": 6,
      "outputs": [
        {
          "output_type": "stream",
          "name": "stdout",
          "text": [
            "Enter your fullname: Keanu Argota\n",
            "a t o g r A   u n a e K "
          ]
        }
      ]
    }
  ]
}